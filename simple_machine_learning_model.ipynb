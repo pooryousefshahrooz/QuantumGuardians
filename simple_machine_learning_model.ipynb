{
 "cells": [
  {
   "cell_type": "code",
   "execution_count": 1,
   "id": "3b0626f0-0838-405a-a1da-bf75068872e5",
   "metadata": {},
   "outputs": [],
   "source": [
    "import torch\n",
    "import torch.nn as nn\n",
    "import torch.optim as optim\n",
    "from torch.utils.data import DataLoader, TensorDataset, random_split"
   ]
  },
  {
   "cell_type": "markdown",
   "id": "f41cab46-b1c8-488d-ba27-bfea06ed303c",
   "metadata": {},
   "source": [
    "# Define the Model:\n",
    "# We'll create a simple feedforward neural network for binary classification."
   ]
  },
  {
   "cell_type": "code",
   "execution_count": 2,
   "id": "300259f2-78ff-43be-96cf-5bdb48c3a8d6",
   "metadata": {},
   "outputs": [],
   "source": [
    "class BinaryClassifier(nn.Module):\n",
    "    def __init__(self, input_size):\n",
    "        super(BinaryClassifier, self).__init__()\n",
    "        self.fc1 = nn.Linear(input_size, 128)\n",
    "        self.relu = nn.ReLU()\n",
    "        self.fc2 = nn.Linear(128, 64)\n",
    "        self.fc3 = nn.Linear(64, 1)\n",
    "        self.sigmoid = nn.Sigmoid()\n",
    "\n",
    "    def forward(self, x):\n",
    "        x = self.fc1(x)\n",
    "        x = self.relu(x)\n",
    "        x = self.fc2(x)\n",
    "        x = self.relu(x)\n",
    "        x = self.fc3(x)\n",
    "        x = self.sigmoid(x)\n",
    "        return x\n"
   ]
  },
  {
   "cell_type": "markdown",
   "id": "346a04d3-a31f-4ba4-ae80-997e7eff2c2b",
   "metadata": {},
   "source": [
    "# Prepare the Data:\n",
    "#Let's assume you have your binary vectors and labels ready as X and y."
   ]
  },
  {
   "cell_type": "code",
   "execution_count": 4,
   "id": "b1fd9eac-f2ab-4c9c-a770-ed1941b4445a",
   "metadata": {},
   "outputs": [],
   "source": [
    "import numpy as np\n",
    "K = 10\n",
    "# Example data (replace with your actual data)\n",
    "X = np.random.randint(0, 2, (1000, K)).astype(np.float32)\n",
    "y = np.random.randint(0, 2, (1000, 1)).astype(np.float32)\n",
    "\n",
    "# Convert to PyTorch tensors\n",
    "X_tensor = torch.tensor(X)\n",
    "y_tensor = torch.tensor(y)\n",
    "\n",
    "# Create a dataset and data loader\n",
    "dataset = TensorDataset(X_tensor, y_tensor)\n",
    "train_size = int(0.8 * len(dataset))\n",
    "test_size = len(dataset) - train_size\n",
    "train_dataset, test_dataset = random_split(dataset, [train_size, test_size])\n",
    "\n",
    "train_loader = DataLoader(train_dataset, batch_size=32, shuffle=True)\n",
    "test_loader = DataLoader(test_dataset, batch_size=32, shuffle=False)\n"
   ]
  },
  {
   "cell_type": "markdown",
   "id": "759b59ec-9aea-4c3b-a201-164e45052f73",
   "metadata": {},
   "source": [
    "# Train the Model:"
   ]
  },
  {
   "cell_type": "code",
   "execution_count": 5,
   "id": "abb74403-0420-47ba-902c-94f4b904ed60",
   "metadata": {},
   "outputs": [
    {
     "name": "stdout",
     "output_type": "stream",
     "text": [
      "Epoch [1/20], Loss: 0.6959\n",
      "Epoch [2/20], Loss: 0.6924\n",
      "Epoch [3/20], Loss: 0.6911\n",
      "Epoch [4/20], Loss: 0.6902\n",
      "Epoch [5/20], Loss: 0.6884\n",
      "Epoch [6/20], Loss: 0.6881\n",
      "Epoch [7/20], Loss: 0.6865\n",
      "Epoch [8/20], Loss: 0.6843\n",
      "Epoch [9/20], Loss: 0.6814\n",
      "Epoch [10/20], Loss: 0.6827\n",
      "Epoch [11/20], Loss: 0.6789\n",
      "Epoch [12/20], Loss: 0.6737\n",
      "Epoch [13/20], Loss: 0.6694\n",
      "Epoch [14/20], Loss: 0.6658\n",
      "Epoch [15/20], Loss: 0.6613\n",
      "Epoch [16/20], Loss: 0.6565\n",
      "Epoch [17/20], Loss: 0.6503\n",
      "Epoch [18/20], Loss: 0.6503\n",
      "Epoch [19/20], Loss: 0.6424\n",
      "Epoch [20/20], Loss: 0.6366\n"
     ]
    }
   ],
   "source": [
    "device = torch.device('cuda' if torch.cuda.is_available() else 'cpu')\n",
    "\n",
    "model = BinaryClassifier(input_size=K).to(device)\n",
    "criterion = nn.BCELoss()\n",
    "optimizer = optim.Adam(model.parameters(), lr=0.001)\n",
    "\n",
    "num_epochs = 20\n",
    "\n",
    "for epoch in range(num_epochs):\n",
    "    model.train()\n",
    "    running_loss = 0.0\n",
    "    for inputs, labels in train_loader:\n",
    "        inputs, labels = inputs.to(device), labels.to(device)\n",
    "\n",
    "        optimizer.zero_grad()\n",
    "        outputs = model(inputs)\n",
    "        loss = criterion(outputs, labels)\n",
    "        loss.backward()\n",
    "        optimizer.step()\n",
    "\n",
    "        running_loss += loss.item()\n",
    "\n",
    "    print(f'Epoch [{epoch+1}/{num_epochs}], Loss: {running_loss/len(train_loader):.4f}')\n"
   ]
  },
  {
   "cell_type": "code",
   "execution_count": 6,
   "id": "bc003d50-2581-4cd7-9636-ed70c9a4882b",
   "metadata": {},
   "outputs": [
    {
     "name": "stdout",
     "output_type": "stream",
     "text": [
      "Accuracy: 51.00%\n"
     ]
    }
   ],
   "source": [
    "model.eval()\n",
    "correct = 0\n",
    "total = 0\n",
    "with torch.no_grad():\n",
    "    for inputs, labels in test_loader:\n",
    "        inputs, labels = inputs.to(device), labels.to(device)\n",
    "        outputs = model(inputs)\n",
    "        predicted = (outputs > 0.5).float()\n",
    "        total += labels.size(0)\n",
    "        correct += (predicted == labels).sum().item()\n",
    "\n",
    "accuracy = correct / total\n",
    "print(f'Accuracy: {accuracy * 100:.2f}%')\n"
   ]
  },
  {
   "cell_type": "code",
   "execution_count": null,
   "id": "e6bd5a3a-d7aa-4620-bf40-de1cbb8a5282",
   "metadata": {},
   "outputs": [],
   "source": []
  }
 ],
 "metadata": {
  "kernelspec": {
   "display_name": "Python 3 (ipykernel)",
   "language": "python",
   "name": "python3"
  },
  "language_info": {
   "codemirror_mode": {
    "name": "ipython",
    "version": 3
   },
   "file_extension": ".py",
   "mimetype": "text/x-python",
   "name": "python",
   "nbconvert_exporter": "python",
   "pygments_lexer": "ipython3",
   "version": "3.9.7"
  }
 },
 "nbformat": 4,
 "nbformat_minor": 5
}
